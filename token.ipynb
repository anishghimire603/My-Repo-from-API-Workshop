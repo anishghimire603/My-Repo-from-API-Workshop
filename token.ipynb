{
 "cells": [
  {
   "cell_type": "code",
   "execution_count": 23,
   "metadata": {},
   "outputs": [],
   "source": [
    "import requests\n",
    "import json\n",
    "\n",
    "url = \"https://api.github.com/user/repos\"\n",
    "\n",
    "token = \"dbd78ec8047c8ce5efb45f4b7d440ff3fbef8d52\"\n",
    "\n"
   ]
  },
  {
   "cell_type": "code",
   "execution_count": 24,
   "metadata": {},
   "outputs": [],
   "source": [
    "headers = {\"Authorization\" : \"token {}\".format(token)}"
   ]
  },
  {
   "cell_type": "code",
   "execution_count": 25,
   "metadata": {},
   "outputs": [],
   "source": [
    "data = {\n",
    "  \"name\": \"My-Repo-from-API-Workshop\",}"
   ]
  },
  {
   "cell_type": "code",
   "execution_count": 29,
   "metadata": {},
   "outputs": [],
   "source": [
    "out = requests.post(url, data=json.dumps(data), headers=headers)"
   ]
  },
  {
   "cell_type": "code",
   "execution_count": 30,
   "metadata": {},
   "outputs": [
    {
     "data": {
      "text/plain": [
       "b'{\"id\":278383625,\"node_id\":\"MDEwOlJlcG9zaXRvcnkyNzgzODM2MjU=\",\"name\":\"My-Repo-from-API-Workshop\",\"full_name\":\"anishghimire603/My-Repo-from-API-Workshop\",\"private\":false,\"owner\":{\"login\":\"anishghimire603\",\"id\":51270297,\"node_id\":\"MDQ6VXNlcjUxMjcwMjk3\",\"avatar_url\":\"https://avatars1.githubusercontent.com/u/51270297?v=4\",\"gravatar_id\":\"\",\"url\":\"https://api.github.com/users/anishghimire603\",\"html_url\":\"https://github.com/anishghimire603\",\"followers_url\":\"https://api.github.com/users/anishghimire603/followers\",\"following_url\":\"https://api.github.com/users/anishghimire603/following{/other_user}\",\"gists_url\":\"https://api.github.com/users/anishghimire603/gists{/gist_id}\",\"starred_url\":\"https://api.github.com/users/anishghimire603/starred{/owner}{/repo}\",\"subscriptions_url\":\"https://api.github.com/users/anishghimire603/subscriptions\",\"organizations_url\":\"https://api.github.com/users/anishghimire603/orgs\",\"repos_url\":\"https://api.github.com/users/anishghimire603/repos\",\"events_url\":\"https://api.github.com/users/anishghimire603/events{/privacy}\",\"received_events_url\":\"https://api.github.com/users/anishghimire603/received_events\",\"type\":\"User\",\"site_admin\":false},\"html_url\":\"https://github.com/anishghimire603/My-Repo-from-API-Workshop\",\"description\":null,\"fork\":false,\"url\":\"https://api.github.com/repos/anishghimire603/My-Repo-from-API-Workshop\",\"forks_url\":\"https://api.github.com/repos/anishghimire603/My-Repo-from-API-Workshop/forks\",\"keys_url\":\"https://api.github.com/repos/anishghimire603/My-Repo-from-API-Workshop/keys{/key_id}\",\"collaborators_url\":\"https://api.github.com/repos/anishghimire603/My-Repo-from-API-Workshop/collaborators{/collaborator}\",\"teams_url\":\"https://api.github.com/repos/anishghimire603/My-Repo-from-API-Workshop/teams\",\"hooks_url\":\"https://api.github.com/repos/anishghimire603/My-Repo-from-API-Workshop/hooks\",\"issue_events_url\":\"https://api.github.com/repos/anishghimire603/My-Repo-from-API-Workshop/issues/events{/number}\",\"events_url\":\"https://api.github.com/repos/anishghimire603/My-Repo-from-API-Workshop/events\",\"assignees_url\":\"https://api.github.com/repos/anishghimire603/My-Repo-from-API-Workshop/assignees{/user}\",\"branches_url\":\"https://api.github.com/repos/anishghimire603/My-Repo-from-API-Workshop/branches{/branch}\",\"tags_url\":\"https://api.github.com/repos/anishghimire603/My-Repo-from-API-Workshop/tags\",\"blobs_url\":\"https://api.github.com/repos/anishghimire603/My-Repo-from-API-Workshop/git/blobs{/sha}\",\"git_tags_url\":\"https://api.github.com/repos/anishghimire603/My-Repo-from-API-Workshop/git/tags{/sha}\",\"git_refs_url\":\"https://api.github.com/repos/anishghimire603/My-Repo-from-API-Workshop/git/refs{/sha}\",\"trees_url\":\"https://api.github.com/repos/anishghimire603/My-Repo-from-API-Workshop/git/trees{/sha}\",\"statuses_url\":\"https://api.github.com/repos/anishghimire603/My-Repo-from-API-Workshop/statuses/{sha}\",\"languages_url\":\"https://api.github.com/repos/anishghimire603/My-Repo-from-API-Workshop/languages\",\"stargazers_url\":\"https://api.github.com/repos/anishghimire603/My-Repo-from-API-Workshop/stargazers\",\"contributors_url\":\"https://api.github.com/repos/anishghimire603/My-Repo-from-API-Workshop/contributors\",\"subscribers_url\":\"https://api.github.com/repos/anishghimire603/My-Repo-from-API-Workshop/subscribers\",\"subscription_url\":\"https://api.github.com/repos/anishghimire603/My-Repo-from-API-Workshop/subscription\",\"commits_url\":\"https://api.github.com/repos/anishghimire603/My-Repo-from-API-Workshop/commits{/sha}\",\"git_commits_url\":\"https://api.github.com/repos/anishghimire603/My-Repo-from-API-Workshop/git/commits{/sha}\",\"comments_url\":\"https://api.github.com/repos/anishghimire603/My-Repo-from-API-Workshop/comments{/number}\",\"issue_comment_url\":\"https://api.github.com/repos/anishghimire603/My-Repo-from-API-Workshop/issues/comments{/number}\",\"contents_url\":\"https://api.github.com/repos/anishghimire603/My-Repo-from-API-Workshop/contents/{+path}\",\"compare_url\":\"https://api.github.com/repos/anishghimire603/My-Repo-from-API-Workshop/compare/{base}...{head}\",\"merges_url\":\"https://api.github.com/repos/anishghimire603/My-Repo-from-API-Workshop/merges\",\"archive_url\":\"https://api.github.com/repos/anishghimire603/My-Repo-from-API-Workshop/{archive_format}{/ref}\",\"downloads_url\":\"https://api.github.com/repos/anishghimire603/My-Repo-from-API-Workshop/downloads\",\"issues_url\":\"https://api.github.com/repos/anishghimire603/My-Repo-from-API-Workshop/issues{/number}\",\"pulls_url\":\"https://api.github.com/repos/anishghimire603/My-Repo-from-API-Workshop/pulls{/number}\",\"milestones_url\":\"https://api.github.com/repos/anishghimire603/My-Repo-from-API-Workshop/milestones{/number}\",\"notifications_url\":\"https://api.github.com/repos/anishghimire603/My-Repo-from-API-Workshop/notifications{?since,all,participating}\",\"labels_url\":\"https://api.github.com/repos/anishghimire603/My-Repo-from-API-Workshop/labels{/name}\",\"releases_url\":\"https://api.github.com/repos/anishghimire603/My-Repo-from-API-Workshop/releases{/id}\",\"deployments_url\":\"https://api.github.com/repos/anishghimire603/My-Repo-from-API-Workshop/deployments\",\"created_at\":\"2020-07-09T14:14:14Z\",\"updated_at\":\"2020-07-09T14:14:14Z\",\"pushed_at\":\"2020-07-09T14:14:15Z\",\"git_url\":\"git://github.com/anishghimire603/My-Repo-from-API-Workshop.git\",\"ssh_url\":\"git@github.com:anishghimire603/My-Repo-from-API-Workshop.git\",\"clone_url\":\"https://github.com/anishghimire603/My-Repo-from-API-Workshop.git\",\"svn_url\":\"https://github.com/anishghimire603/My-Repo-from-API-Workshop\",\"homepage\":null,\"size\":0,\"stargazers_count\":0,\"watchers_count\":0,\"language\":null,\"has_issues\":true,\"has_projects\":true,\"has_downloads\":true,\"has_wiki\":true,\"has_pages\":false,\"forks_count\":0,\"mirror_url\":null,\"archived\":false,\"disabled\":false,\"open_issues_count\":0,\"license\":null,\"forks\":0,\"open_issues\":0,\"watchers\":0,\"default_branch\":\"master\",\"permissions\":{\"admin\":true,\"push\":true,\"pull\":true},\"allow_squash_merge\":true,\"allow_merge_commit\":true,\"allow_rebase_merge\":true,\"delete_branch_on_merge\":false,\"network_count\":0,\"subscribers_count\":1}'"
      ]
     },
     "execution_count": 30,
     "metadata": {},
     "output_type": "execute_result"
    }
   ],
   "source": [
    "out.content"
   ]
  }
 ],
 "metadata": {
  "kernelspec": {
   "display_name": "Python 3",
   "language": "python",
   "name": "python3"
  },
  "language_info": {
   "codemirror_mode": {
    "name": "ipython",
    "version": 3
   },
   "file_extension": ".py",
   "mimetype": "text/x-python",
   "name": "python",
   "nbconvert_exporter": "python",
   "pygments_lexer": "ipython3",
   "version": "3.7.6"
  }
 },
 "nbformat": 4,
 "nbformat_minor": 4
}
