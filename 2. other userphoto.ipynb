{
 "cells": [
  {
   "cell_type": "code",
   "execution_count": 7,
   "metadata": {},
   "outputs": [
    {
     "name": "stdout",
     "output_type": "stream",
     "text": [
      "please provide your username:sujanbhattara\n"
     ]
    }
   ],
   "source": [
    "import requests\n",
    "import json\n",
    "\n",
    "url = \"https://api.github.com/users/{}\"\n",
    "\n",
    "username = input(\"please provide your username:\")\n",
    "\n",
    "output = requests.get(url.format(username))\n",
    "\n",
    "profile = json.loads(output.text)\n",
    "\n",
    "profile\n",
    "\n",
    "type(profile)\n",
    "\n",
    "profile[\"name\"]\n",
    "\n",
    "profile[\"avatar_url\"]\n",
    "\n",
    "pic_out = requests.get(profile[\"avatar_url\"])\n",
    "\n",
    "data = pic_out.content\n",
    "\n",
    "f = open(\"{}.png\".format(username), \"wb\")\n",
    "\n",
    "f.write(data)\n",
    "\n",
    "f.close()"
   ]
  }
 ],
 "metadata": {
  "kernelspec": {
   "display_name": "Python 3",
   "language": "python",
   "name": "python3"
  },
  "language_info": {
   "codemirror_mode": {
    "name": "ipython",
    "version": 3
   },
   "file_extension": ".py",
   "mimetype": "text/x-python",
   "name": "python",
   "nbconvert_exporter": "python",
   "pygments_lexer": "ipython3",
   "version": "3.7.6"
  }
 },
 "nbformat": 4,
 "nbformat_minor": 4
}
