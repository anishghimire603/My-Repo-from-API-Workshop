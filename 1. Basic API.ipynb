{
 "cells": [
  {
   "cell_type": "code",
   "execution_count": 1,
   "metadata": {},
   "outputs": [],
   "source": [
    "import requests\n",
    "import json"
   ]
  },
  {
   "cell_type": "code",
   "execution_count": 27,
   "metadata": {},
   "outputs": [],
   "source": [
    "output = requests.get(\"https://api.github.com/users/anishghimire603\")\n",
    "\n",
    "output.text\n",
    "\n",
    "profile = json.loads(output.text)\n",
    "\n",
    "profile\n",
    "\n",
    "type(profile)\n",
    "\n",
    "profile[\"name\"]\n",
    "\n",
    "profile[\"avatar_url\"]\n",
    "\n",
    "pic_out = requests.get(profile[\"avatar_url\"])\n",
    "\n",
    "data = pic_out.content\n",
    "\n",
    "f = open(\"anish.jpg\", \"wb\")\n",
    "\n",
    "f.write(data)\n",
    "\n",
    "f.close()"
   ]
  },
  {
   "cell_type": "code",
   "execution_count": null,
   "metadata": {},
   "outputs": [],
   "source": []
  }
 ],
 "metadata": {
  "kernelspec": {
   "display_name": "Python 3",
   "language": "python",
   "name": "python3"
  },
  "language_info": {
   "codemirror_mode": {
    "name": "ipython",
    "version": 3
   },
   "file_extension": ".py",
   "mimetype": "text/x-python",
   "name": "python",
   "nbconvert_exporter": "python",
   "pygments_lexer": "ipython3",
   "version": "3.7.6"
  }
 },
 "nbformat": 4,
 "nbformat_minor": 4
}
